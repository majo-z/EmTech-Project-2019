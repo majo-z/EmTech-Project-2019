{
 "cells": [
  {
   "cell_type": "markdown",
   "metadata": {},
   "source": [
    "# Keras, TensorFlow, MNIST  and machine learning\n",
    "\n",
    "<img src=\"data/notebook_img/keras-and-tensorFlow.jpg\" width=\"400\" align=\"center\"/>\n",
    "\n",
    "\n",
    "## TensorFlow \n",
    "Tensorflow is a free and open-source platform used for numerical computation and machine learning, such as building neural networks. It was developed by Google and they use it for both research and production. Many acclaimed companies use TessorFlow for large and complex projects, such as classifying images, detecting objects, faster and more refined search and more. TensorFlow can run on multiple CPUs and GPUs and its flexible architecture allows for an easy deployment of computation across various operating systems(Linux, macOS and Windows) and mobile operating systems(Android and iOS). \n",
    "\n",
    "Tensorflow offers multiple levels of abstractions for building, training and deploying models. Model is represented as a data flow graph. The graph contains a set of nodes(operations) that are connected to each other inside the graph. Operations are units of computation and represent a mathematical operation. Each operation takes in tensor as input and output to tensor as well. Tensor is how the data is represented in tensorflow. They are multi-dimensional arrays of numbers that flow between operations."
   ]
  },
  {
   "cell_type": "markdown",
   "metadata": {},
   "source": [
    "## References:\n",
    "### Tensorflow: \n",
    "\n",
    "*https://www.tensorflow.org*\n",
    "\n",
    "*https://en.wikipedia.org/wiki/TensorFlow*\n",
    "\n",
    "*https://www.youtube.com/watch?v=2FmcHiLCwTU*\n",
    "\n",
    "*https://www.youtube.com/watch?v=tXVNS-V39A0*\n",
    "\n",
    "### Keras: \n",
    "\n",
    "*https://keras.io*\n",
    "\n",
    "*https://www.i2tutorials.com/deep-learning-interview-questions-and-answers/what-is-the-difference-between-keras-and-tensorflow/*\n",
    "\n"
   ]
  },
  {
   "cell_type": "code",
   "execution_count": null,
   "metadata": {},
   "outputs": [],
   "source": []
  }
 ],
 "metadata": {
  "kernelspec": {
   "display_name": "Python 3",
   "language": "python",
   "name": "python3"
  },
  "language_info": {
   "codemirror_mode": {
    "name": "ipython",
    "version": 3
   },
   "file_extension": ".py",
   "mimetype": "text/x-python",
   "name": "python",
   "nbconvert_exporter": "python",
   "pygments_lexer": "ipython3",
   "version": "3.7.5"
  }
 },
 "nbformat": 4,
 "nbformat_minor": 2
}

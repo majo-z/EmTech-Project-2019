{
 "cells": [
  {
   "cell_type": "markdown",
   "metadata": {},
   "source": [
    "# Keras, TensorFlow, MNIST  and Machine Learning\n",
    "\n",
    "<img src=\"data/notebook_img/keras_and_tensorFlow.png\" width=\"400\" align=\"center\"/>\n",
    "\n",
    "\n",
    "## TensorFlow \n",
    "Tensorflow is a free and open-source platform used for numerical computation and machine learning, such as building neural networks. It was developed by Google and they use it for both research and production. Many acclaimed companies use TessorFlow for large and complex projects, such as classifying images, detecting objects, faster and more refined search and more. TensorFlow can run on multiple CPUs and GPUs and its flexible architecture allows for an easy deployment of computation across various operating systems(Linux, macOS and Windows) and mobile operating systems(Android and iOS). \n",
    "\n",
    "Tensorflow offers multiple levels of abstractions for building, training and deploying models. Model is represented as a data flow graph. The graph contains a set of nodes(operations) that are connected to each other inside the graph. Operations are units of computation and represent a mathematical operation. Each operation takes in tensor as input and output to tensor as well. Tensor is how the data is represented in tensorflow. They are multi-dimensional arrays of numbers that flow between operations.\n",
    "\n",
    "# Keras\n",
    "Keras is a high-level and open-source neural-network API, written in Python and capable of running on top of TensorFlow. It is an interface rather than a standalone machine learning framework. It was created to be user friendly and \"designed for human beings, not machines\". Keras API simplifies working with TensorFlow over TensorFlow Core API that requires computational graphs, tensors, operations, and sessions that can be quite complex and harder to understand. Keras models are made by connecting configurable modules(neural layers, cost functions, optimizers, initialization schemes, activation functions and regularization schemes) together with as few restrictions as possible. New modules are simple to add, as new classes and functions. Models are described in Python code, not separate model configuration files. When importing Keras to Jupyter notebook, it will return \"Using TensorFlow backend\".\n",
    "\n",
    "# MNIST\n",
    "Modified National Institute of Standards and Technology, or MNIST, is a subset of images constructed from a variety of scanned documents (American Census Bureau employees and American high school students), available from the larger [NIST](https://en.wikipedia.org/wiki/National_Institute_of_Standards_and_Technology) set. It is commonly used for image classification, evaluating and comparing models in the field of machine learning.\n",
    "\n",
    "MNIST contains 60,000 training and 10,000 testing black and white images. It is a set of handwritten single digits between 0 and 9, or 10 classes to clasify. The images are centered, normalized to fit into a 28x28 pixel bounding box(784 pixels in total) and anti-aliased, which introduced grayscale levels. Each image also contains an identifying label. \n",
    "\n",
    "Tensorflow and Keras allow us to import and download the MNIST dataset directly from their API. MNIST is an useful starting point for developing and practicing a methodology for solving image classification tasks using convolutional neural networks(CNN).\n",
    "\n",
    "# Machine Learning\n",
    "\n",
    "### Neurons \n",
    "Neurons are building blocks of a neural network. Neuron receives an input, processes it and generates an output. The output is either sent to other neurons for further processing or it is the final output. The neurons have their weights and biases that are assigned randomly. They are variables in the model that are updated during the network training. The <b>activation function(f)</b> puts a nonlinear transformation to the linear combination which then generates the output. It translates the input signals to output signals. \n",
    "\n",
    "<img src=\"data/notebook_img/neuron.png\" width=\"500\" align=\"center\"/>\n",
    "\n",
    "Once the output for a single iteration is received, the loss(error) of the network can be estimated via a <b>cost function</b>, that compares the actual output and the desired output to measure accuracy of the network. The error is then fed back to the network along with the gradient of the cost function to update the weights of the network to improve network's accuracy, so that the errors in the subsequent iterations is reduced and results get closer to right solution. This updating of weights using the gradient of the cost function is called backpropagation.\n",
    "\n",
    "<b>Activation Function</b> does the non-linear transformation to the input making it capable to learn and perform more complex tasks.\n",
    "\n",
    "1. Sigmoid function is a non linear function that is used in output layer of a binary classification, where result is either 0 or 1. As value for sigmoid function lies between 0 and 1, the result can be predicted to be 1 if value is greater than 0.5 and 0 otherwise.\n",
    "<img src=\"data/notebook_img/sigmoid.png\" width=\"200\" align=\"center\"/>\n",
    "\n",
    "2. ReLU (Rectified linear unit) is non linear function that allows the network to converge quicker compared to sigmoid function. It gives an output x if x is positive and 0 otherwise.\n",
    "<img src=\"data/notebook_img/relu.png\" width=\"200\" align=\"center\"/>\n",
    "\n",
    "3. Softmax Function a type of sigmoid function that normalises the outputs for each class between 0 and 1. It is used for handling multiple classes that need to classify inputs into multiple categories.\n",
    "\n",
    "<b>Cost function</b> is minimized by gradient descent, which is an efficient optimization algorithm that attempts to find a local or global minima of a function. Gradient descent enables a model to learn the gradient(direction) that the model should take in order to reduce errors(differences between actual y and predicted y).\n",
    "\n",
    "<img src=\"data/notebook_img/cost_function.png\" width=\"300\" align=\"center\"/>\n",
    "\n",
    "### Neural Networks\n",
    "NN form the backbone of deep learning. It is a set of mathematical expressions that are good at recognising patterns in information or data. The goal of a neural network is to find an approximation of an unknown function. Neural Network is formed by intercpngnnected neurons. It consists of <b>Input layer</b>, <b>Hidden Layer(s)</b> and <b>Output layer</b>. Input layer is the first layer that receives the input and its output acts as the input into the next layer. Hidden(processing) layers perform specific tasks on the incoming data and pass on the output generated by them to the next layer. Output layer generates the output or is usually the final layer of the network.\n",
    "\n",
    "<img src=\"data/notebook_img/neural_network.png\" width=\"300\" align=\"center\"/>\n",
    "\n",
    "### Convolutional Neural Networks\n",
    "CNN are mainly used for image classification and recognition. Convolution layer is the basic building block of CNN. Compared to regular NN, CNN also apply <b>Convolutional Layers, Pooling Layers, Flatten Layers and Dropout Layers</b>. The layers are organised in 3 dimensions: width, height and depth. The neurons in one layer do not connect to all the neurons in the next layer, but only to a small region of it. The final output is reduced to a single vector of probability scores, organized along the depth dimension.\n",
    "\n",
    "<b>Convolution Layer</b> filters the image with a smaller pixel filter to decrease the size of the image without loosing the relationship between pixels. This allows to preserve the relationship between different parts of an image.\n",
    "\n",
    "<b>Pooling Layer</b> reduces a number of parameters and prevents overfitting. It is also referred to as a downsampling layer. Max function is applied over defined strides of input data. It helps reducing the computational complexity.\n",
    "\n",
    "<b>Flatten Layer</b> converts a 2D array to 1D array by unstacking the rows and lining them up for efficient formatting. 784 is a dimensionality of a single flattened MNIST image.\n",
    "\n",
    "<b>Dropout Layer</b> drops out a random set of activations in that layer by setting them to zero to help alleviate the overfitting problem.\n",
    "\n",
    "<img src=\"data/notebook_img/cnn.png\" width=\"700\" align=\"center\"/>"
   ]
  },
  {
   "cell_type": "markdown",
   "metadata": {},
   "source": [
    "***"
   ]
  },
  {
   "cell_type": "markdown",
   "metadata": {},
   "source": [
    "# Create a CNN for MNIST Handwritten Digit Classification"
   ]
  },
  {
   "cell_type": "markdown",
   "metadata": {},
   "source": [
    "Any typical machine learning life cycle or deep learning process has similar steps:\n",
    "\n",
    "* Collection of data sets\n",
    "* Building a model\n",
    "* Training the model\n",
    "* Evaluating the model\n",
    "* Predicting the outcome\n",
    "\n",
    "<img src=\"data/notebook_img/network_training.png\" width=\"400\" align=\"left\"/>"
   ]
  },
  {
   "cell_type": "markdown",
   "metadata": {},
   "source": [
    "### Collection of data sets"
   ]
  },
  {
   "cell_type": "code",
   "execution_count": 1,
   "metadata": {},
   "outputs": [
    {
     "name": "stderr",
     "output_type": "stream",
     "text": [
      "Using TensorFlow backend.\n"
     ]
    }
   ],
   "source": [
    "# import all necessary libraries\n",
    "%matplotlib inline\n",
    "import numpy as np\n",
    "import keras as kr\n",
    "from keras.utils import np_utils\n",
    "import matplotlib.pyplot as plt"
   ]
  },
  {
   "cell_type": "code",
   "execution_count": 2,
   "metadata": {},
   "outputs": [],
   "source": [
    "# load the MNIST dataset provided by Keras\n",
    "(x_train, y_train), (x_test, y_test) = kr.datasets.mnist.load_data()"
   ]
  },
  {
   "cell_type": "code",
   "execution_count": 3,
   "metadata": {},
   "outputs": [
    {
     "name": "stdout",
     "output_type": "stream",
     "text": [
      "Train: x=(60000, 28, 28), y=(60000,)\n",
      "Test: x=(10000, 28, 28), y=(10000,)\n"
     ]
    }
   ],
   "source": [
    "# There are 60,000 examples in the training dataset and 10,000 in the test dataset\n",
    "# The datasets are 3D arrays, 60,000/10,000 x images square with 28×28 pixels\n",
    "\n",
    "print('Train: x=%s, y=%s' % (x_train.shape, y_train.shape))\n",
    "print('Test: x=%s, y=%s' % (x_test.shape, y_test.shape))"
   ]
  },
  {
   "cell_type": "code",
   "execution_count": 4,
   "metadata": {
    "scrolled": false
   },
   "outputs": [
    {
     "name": "stdout",
     "output_type": "stream",
     "text": [
      "5 0 4 1 9 2 1 3 1 "
     ]
    },
    {
     "data": {
      "image/png": "[encoded data removed]",
      "text/plain": [
       "<Figure size 432x288 with 9 Axes>"
      ]
     },
     "metadata": {
      "needs_background": "light"
     },
     "output_type": "display_data"
    }
   ],
   "source": [
    "# A plot of the first 9 images & labels in the training dataset\n",
    "for i in range(9):\n",
    "    # print labels\n",
    "    print(y_train[i], end=' ')\n",
    "    # define subplot\n",
    "    plt.subplot(331 + i)\n",
    "    # plot raw pixel data\n",
    "    plt.imshow(x_train[i], cmap=plt.get_cmap('gray'))\n",
    "# show the figure\n",
    "plt.show()\n"
   ]
  },
  {
   "cell_type": "markdown",
   "metadata": {},
   "source": [
    "### Reshaping and Normalising images"
   ]
  },
  {
   "cell_type": "markdown",
   "metadata": {},
   "source": [
    "What we know about dataset images:\n",
    "* all images are centered\n",
    "* each image only contains a hand-drawn digit\n",
    "* all images have the same square size of 28×28 pixels\n",
    "* all images are grayscale\n",
    "\n",
    "To be able to use the dataset in Keras API, the input shape has to be a 4D array(batch, height, width, channels. However, the MNIST dataset is 3D array. Therefore, each image needs to be reshaped and has to have a single color channel. Channels signify whether the image is grayscale or colored(1 for grayscale images, 3 for RGB images). \n",
    "\n",
    "The memory requirements can also be reduced by forcing the precision of the pixel values to be 32 bit. \n",
    "\n",
    "Normalising is always required in neural network models. It is done by by dividing each pixel value by 255(since RGB value can range from 0 to 255). "
   ]
  },
  {
   "cell_type": "code",
   "execution_count": 5,
   "metadata": {},
   "outputs": [
    {
     "name": "stdout",
     "output_type": "stream",
     "text": [
      "x_train shape: (60000, 28, 28, 1)\n",
      "Number of images in x_train 60000\n",
      "Number of images in x_test 10000\n"
     ]
    }
   ],
   "source": [
    "# image dimensions\n",
    "img_rows, img_cols = 28, 28\n",
    "\n",
    "# Reshaping the array to 4D(batch, height, width, channels)\n",
    "# The values are float so that we can get decimal points after division\n",
    "x_train = x_train.reshape(x_train.shape[0], img_rows, img_cols, 1).astype('float32')\n",
    "x_test = x_test.reshape(x_test.shape[0], img_rows, img_cols, 1).astype('float32')\n",
    "\n",
    "# normalise inputs from 0-255 to 0-1\n",
    "x_train/=255\n",
    "x_test/=255\n",
    "\n",
    "print('x_train shape:', x_train.shape)\n",
    "print('Number of images in x_train', x_train.shape[0])\n",
    "print('Number of images in x_test', x_test.shape[0])"
   ]
  },
  {
   "cell_type": "markdown",
   "metadata": {},
   "source": [
    "## References:\n",
    "### Tensorflow: \n",
    "\n",
    "*https://www.tensorflow.org*\n",
    "\n",
    "*https://en.wikipedia.org/wiki/TensorFlow*\n",
    "\n",
    "*https://www.youtube.com/watch?v=2FmcHiLCwTU*\n",
    "\n",
    "*https://www.youtube.com/watch?v=tXVNS-V39A0*\n",
    "\n",
    "### Keras: \n",
    "\n",
    "*https://keras.io*\n",
    "\n",
    "*https://en.wikipedia.org/wiki/Keras*\n",
    "\n",
    "*https://www.i2tutorials.com/deep-learning-interview-questions-and-answers/what-is-the-difference-between-keras-and-tensorflow*\n",
    "\n",
    "*https://www.infoworld.com/article/3336192/what-is-keras-the-deep-neural-network-api-explained.html*\n",
    "\n",
    "### MNIST\n",
    "\n",
    "*http://yann.lecun.com/exdb/mnist*\n",
    "\n",
    "*https://en.wikipedia.org/wiki/MNIST_database*\n",
    "\n",
    "*https://machinelearningmastery.com/handwritten-digit-recognition-using-convolutional-neural-networks-python-keras*\n",
    "\n",
    "*https://machinelearningmastery.com/how-to-develop-a-convolutional-neural-network-from-scratch-for-mnist-handwritten-digit-classification*\n",
    "\n",
    "### Matplotlib\n",
    "\n",
    "*https://matplotlib.org/3.1.1/api/_as_gen/matplotlib.pyplot.subplot.html*\n",
    "\n",
    "*https://stackoverflow.com/questions/3584805/in-matplotlib-what-does-the-argument-mean-in-fig-add-subplot111*\n",
    "\n",
    "### Machine Learning\n",
    "\n",
    "*https://towardsdatascience.com/image-classification-in-10-minutes-with-mnist-dataset-54c35b77a38d*\n",
    "\n",
    "*https://machinelearningmastery.com/how-to-develop-a-convolutional-neural-network-from-scratch-for-mnist-handwritten-digit-classification*\n",
    "\n",
    "*https://machinelearningmastery.com/handwritten-digit-recognition-using-convolutional-neural-networks-python-keras*\n",
    "\n",
    "*https://www.analyticsvidhya.com/blog/2017/05/25-must-know-terms-concepts-for-beginners-in-deep-learning*\n",
    "\n",
    "*https://medium.com/@afozbek_/how-to-train-a-model-with-mnist-dataset-d79f8123ba84*\n",
    "\n",
    "*https://keras.io/layers/convolutional*\n",
    "\n",
    "*https://medium.com/coinmonks/handwritten-digit-prediction-using-convolutional-neural-networks-in-tensorflow-with-keras-and-live-5ebddf46dc8*\n",
    "\n",
    "*https://medium.com/coinmonks/deploy-your-first-deep-learning-neural-network-model-using-flask-keras-tensorflow-in-python-f4bb7309fc49*\n",
    "\n",
    "*https://medium.com/@ashok.tankala/build-the-mnist-model-with-your-own-handwritten-digits-using-tensorflow-keras-and-python-f8ec9f871fd3*\n",
    "\n",
    "*https://www.sitepoint.com/keras-digit-recognition-tutorial*\n",
    "\n",
    "*https://machinelearningmastery.com/how-to-develop-a-convolutional-neural-network-from-scratch-for-mnist-handwritten-digit-classification*\n",
    "\n",
    "*https://www.geeksforgeeks.org/activation-functions-neural-networks*\n",
    "\n",
    "*https://machinelearningmastery.com/handwritten-digit-recognition-using-convolutional-neural-networks-python-keras*\n",
    "\n",
    "*https://towardsdatascience.com/machine-learning-fundamentals-via-linear-regression-41a5d11f5220*\n",
    "\n",
    "*https://medium.com/@ashok.tankala/building-digit-prediction-web-application-using-tensorflow-with-keras-and-flask-19f8bbdaec0b*\n",
    "\n",
    "*https://towardsdatascience.com/writing-your-first-neural-net-in-less-than-30-lines-of-code-with-keras-18e160a35502*\n",
    "\n",
    "*https://medium.com/@ashok.tankala/build-your-first-deep-learning-neural-network-model-using-keras-tensorflow-in-python-a3e76a6b3ccb*\n",
    "\n",
    "*https://adeshpande3.github.io/A-Beginner%27s-Guide-To-Understanding-Convolutional-Neural-Networks-Part-2*\n",
    "\n"
   ]
  }
 ],
 "metadata": {
  "kernelspec": {
   "display_name": "Python 3",
   "language": "python",
   "name": "python3"
  },
  "language_info": {
   "codemirror_mode": {
    "name": "ipython",
    "version": 3
   },
   "file_extension": ".py",
   "mimetype": "text/x-python",
   "name": "python",
   "nbconvert_exporter": "python",
   "pygments_lexer": "ipython3",
   "version": "3.7.5"
  }
 },
 "nbformat": 4,
 "nbformat_minor": 2
}
